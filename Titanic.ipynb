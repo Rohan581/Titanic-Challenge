{
 "cells": [
  {
   "cell_type": "code",
   "execution_count": 242,
   "metadata": {
    "collapsed": true
   },
   "outputs": [],
   "source": [
    "import pandas as pd\n",
    "import numpy as np"
   ]
  },
  {
   "cell_type": "code",
   "execution_count": 243,
   "outputs": [],
   "source": [
    "df = pd.read_csv(\"train.csv\")\n",
    "test = pd.read_csv(\"test.csv\")"
   ],
   "metadata": {
    "collapsed": false,
    "pycharm": {
     "name": "#%%\n"
    }
   }
  },
  {
   "cell_type": "code",
   "execution_count": 244,
   "outputs": [],
   "source": [
    "embarked_mapping_1 = {label: idx for idx, label in enumerate(np.unique(df['Embarked'].astype(str)))}\n",
    "embarked_mapping_2 = {label: idx for idx, label in enumerate(np.unique(df['Sex'].astype(str)))}\n",
    "df['Embarked'] = df['Embarked'].map(embarked_mapping_1)\n",
    "df['Sex'] = df['Sex'].map(embarked_mapping_2)\n",
    "df = df.fillna(df['Embarked'].mode())\n",
    "df = df.drop(['Cabin', 'Name', 'Ticket', 'Parch'], axis=1)\n",
    "df = df.fillna(df['Age'].mean())"
   ],
   "metadata": {
    "collapsed": false,
    "pycharm": {
     "name": "#%%\n"
    }
   }
  },
  {
   "cell_type": "code",
   "execution_count": 245,
   "outputs": [],
   "source": [
    "embarked_mapping_3 = {label: idx for idx, label in enumerate(np.unique(test['Embarked'].astype(str)))}\n",
    "embarked_mapping_4 = {label: idx for idx, label in enumerate(np.unique(test['Sex'].astype(str)))}\n",
    "test['Embarked'] = test['Embarked'].map(embarked_mapping_3)\n",
    "test['Sex'] = test['Sex'].map(embarked_mapping_4)\n",
    "test = test.fillna(df['Embarked'].mode())\n",
    "test = test.drop(['Cabin', 'Name', 'Ticket', 'Parch'], axis=1)\n",
    "test = test.fillna(df['Age'].mean())"
   ],
   "metadata": {
    "collapsed": false,
    "pycharm": {
     "name": "#%%\n"
    }
   }
  },
  {
   "cell_type": "code",
   "execution_count": 246,
   "outputs": [
    {
     "name": "stdout",
     "output_type": "stream",
     "text": [
      "     Pclass  Sex        Age  SibSp      Fare  Embarked\n",
      "0         3    1  34.500000      0    7.8292         1\n",
      "1         3    0  47.000000      1    7.0000         2\n",
      "2         2    1  62.000000      0    9.6875         1\n",
      "3         3    1  27.000000      0    8.6625         2\n",
      "4         3    0  22.000000      1   12.2875         2\n",
      "5         3    1  14.000000      0    9.2250         2\n",
      "6         3    0  30.000000      0    7.6292         1\n",
      "7         2    1  26.000000      1   29.0000         2\n",
      "8         3    0  18.000000      0    7.2292         0\n",
      "9         3    1  21.000000      2   24.1500         2\n",
      "10        3    1  29.699118      0    7.8958         2\n",
      "11        1    1  46.000000      0   26.0000         2\n",
      "12        1    0  23.000000      1   82.2667         2\n",
      "13        2    1  63.000000      1   26.0000         2\n",
      "14        1    0  47.000000      1   61.1750         2\n",
      "15        2    0  24.000000      1   27.7208         0\n",
      "16        2    1  35.000000      0   12.3500         1\n",
      "17        3    1  21.000000      0    7.2250         0\n",
      "18        3    0  27.000000      1    7.9250         2\n",
      "19        3    0  45.000000      0    7.2250         0\n",
      "20        1    1  55.000000      1   59.4000         0\n",
      "21        3    1   9.000000      0    3.1708         2\n",
      "22        1    0  29.699118      0   31.6833         2\n",
      "23        1    1  21.000000      0   61.3792         0\n",
      "24        1    0  48.000000      1  262.3750         0\n",
      "25        3    1  50.000000      1   14.5000         2\n",
      "26        1    0  22.000000      0   61.9792         0\n",
      "27        3    1  22.500000      0    7.2250         0\n",
      "28        1    1  41.000000      0   30.5000         2\n",
      "29        3    1  29.699118      2   21.6792         0\n",
      "..      ...  ...        ...    ...       ...       ...\n",
      "388       3    1  21.000000      0    7.7500         1\n",
      "389       3    1   6.000000      3   21.0750         2\n",
      "390       1    1  23.000000      0   93.5000         2\n",
      "391       1    0  51.000000      0   39.4000         2\n",
      "392       3    1  13.000000      0   20.2500         2\n",
      "393       2    1  47.000000      0   10.5000         2\n",
      "394       3    1  29.000000      3   22.0250         2\n",
      "395       1    0  18.000000      1   60.0000         2\n",
      "396       3    1  24.000000      0    7.2500         1\n",
      "397       1    0  48.000000      1   79.2000         0\n",
      "398       3    1  22.000000      0    7.7750         2\n",
      "399       3    1  31.000000      0    7.7333         1\n",
      "400       1    0  30.000000      0  164.8667         2\n",
      "401       2    1  38.000000      1   21.0000         2\n",
      "402       1    0  22.000000      0   59.4000         0\n",
      "403       1    1  17.000000      0   47.1000         2\n",
      "404       1    1  43.000000      1   27.7208         0\n",
      "405       2    1  20.000000      0   13.8625         0\n",
      "406       2    1  23.000000      1   10.5000         2\n",
      "407       1    1  50.000000      1  211.5000         0\n",
      "408       3    0  29.699118      0    7.7208         1\n",
      "409       3    0   3.000000      1   13.7750         2\n",
      "410       3    0  29.699118      0    7.7500         1\n",
      "411       1    0  37.000000      1   90.0000         1\n",
      "412       3    0  28.000000      0    7.7750         2\n",
      "413       3    1  29.699118      0    8.0500         2\n",
      "414       1    0  39.000000      0  108.9000         0\n",
      "415       3    1  38.500000      0    7.2500         2\n",
      "416       3    1  29.699118      0    8.0500         2\n",
      "417       3    1  29.699118      1   22.3583         0\n",
      "\n",
      "[418 rows x 6 columns]\n"
     ]
    }
   ],
   "source": [
    "X1 = df.iloc[:, 2:]\n",
    "y1 = df.iloc[:, 1]\n",
    "X2 = test.iloc[:, 1:]\n",
    "print(X2)"
   ],
   "metadata": {
    "collapsed": false,
    "pycharm": {
     "name": "#%%\n"
    }
   }
  },
  {
   "cell_type": "code",
   "execution_count": 247,
   "outputs": [],
   "source": [
    "from sklearn.model_selection import train_test_split\n",
    "X_train, X_test, y_train, y_test = train_test_split(X1, y1, test_size=0.3,  random_state=42, stratify=y1)"
   ],
   "metadata": {
    "collapsed": false,
    "pycharm": {
     "name": "#%%\n"
    }
   }
  },
  {
   "cell_type": "code",
   "execution_count": 248,
   "outputs": [
    {
     "name": "stderr",
     "output_type": "stream",
     "text": [
      "D:\\Anaconda\\envs\\pythonML\\lib\\site-packages\\sklearn\\preprocessing\\data.py:625: DataConversionWarning: Data with input dtype int64, float64 were all converted to float64 by StandardScaler.\n",
      "  return self.partial_fit(X, y)\n",
      "D:\\Anaconda\\envs\\pythonML\\lib\\site-packages\\ipykernel_launcher.py:4: DataConversionWarning: Data with input dtype int64, float64 were all converted to float64 by StandardScaler.\n",
      "  after removing the cwd from sys.path.\n",
      "D:\\Anaconda\\envs\\pythonML\\lib\\site-packages\\ipykernel_launcher.py:5: DataConversionWarning: Data with input dtype int64, float64 were all converted to float64 by StandardScaler.\n",
      "  \"\"\"\n",
      "D:\\Anaconda\\envs\\pythonML\\lib\\site-packages\\ipykernel_launcher.py:6: DataConversionWarning: Data with input dtype int64, float64 were all converted to float64 by StandardScaler.\n",
      "  \n"
     ]
    }
   ],
   "source": [
    "from sklearn.preprocessing import StandardScaler\n",
    "sc = StandardScaler()\n",
    "sc.fit(X_train)\n",
    "X_train_std = sc.transform(X_train)\n",
    "X_test_std = sc.transform(X_test)\n",
    "X2_std = sc.transform(X2)"
   ],
   "metadata": {
    "collapsed": false,
    "pycharm": {
     "name": "#%%\n"
    }
   }
  },
  {
   "cell_type": "code",
   "execution_count": 249,
   "outputs": [],
   "source": [
    "from sklearn.linear_model import LogisticRegression\n",
    "from sklearn.linear_model import Perceptron\n",
    "from sklearn.metrics import accuracy_score\n",
    "lr = LogisticRegression(C=100, random_state=1, solver='lbfgs', max_iter=100, multi_class='auto')\n",
    "ppn = Perceptron(eta0=0.1, random_state=42, max_iter=1000)"
   ],
   "metadata": {
    "collapsed": false,
    "pycharm": {
     "name": "#%%\n"
    }
   }
  },
  {
   "cell_type": "code",
   "execution_count": 250,
   "outputs": [
    {
     "name": "stdout",
     "output_type": "stream",
     "text": [
      "[0 0 0 0 1 0 1 0 1 0 0 0 1 0 1 1 0 0 1 0 0 0 1 1 1 0 1 0 0 0 0 0 1 1 0 0 1\n",
      " 1 0 0 0 1 0 1 1 0 0 0 1 1 0 0 1 1 0 0 0 0 0 1 0 0 0 1 1 1 1 0 0 1 1 0 1 1\n",
      " 1 1 0 1 0 1 0 0 0 0 0 0 1 1 1 0 1 0 1 0 1 0 1 0 1 0 1 0 0 0 1 0 0 0 0 0 0\n",
      " 1 1 1 1 0 0 1 0 1 1 0 1 0 0 1 0 0 0 0 0 0 1 0 0 0 0 0 1 0 0 1 0 0 0 0 1 0\n",
      " 1 0 1 0 0 1 0 0 1 1 0 1 1 0 1 0 0 1 0 0 1 1 0 0 0 0 0 1 1 0 1 1 0 0 1 0 1\n",
      " 0 1 0 0 0 0 1 0 0 0 0 1 1 0 1 1 0 0 1 0 1 1 0 1 0 0 0 0 0 0 0 1 0 1 0 1 0\n",
      " 1 0 1 1 0 1 0 0 0 1 0 0 0 0 0 0 1 1 1 1 0 0 0 0 1 0 1 1 1 0 1 0 0 0 0 0 1\n",
      " 0 0 0 1 1 0 0 0 0 1 0 0 0 1 1 0 1 0 0 0 0 1 0 1 1 1 0 0 1 0 0 1 1 0 0 0 0\n",
      " 1 0 1 0 0 0 0 0 1 1 0 0 0 0 0 0 0 1 1 1 0 0 0 0 0 0 0 0 1 0 1 0 0 0 1 0 0\n",
      " 1 0 0 0 0 0 0 0 0 0 1 0 1 0 1 0 1 1 0 0 0 1 0 1 0 0 1 0 1 1 0 1 1 0 1 1 0\n",
      " 0 1 0 0 1 1 1 0 0 0 0 0 1 1 0 1 0 0 0 0 1 1 0 0 0 1 0 1 0 0 1 0 1 1 0 0 0\n",
      " 0 1 1 1 1 1 0 1 0 0 0]\n"
     ]
    }
   ],
   "source": [
    "classifier = lr\n",
    "classifier.fit(X_train_std, y_train)\n",
    "y_pred = classifier.predict(X2_std)\n",
    "print(y_pred)"
   ],
   "metadata": {
    "collapsed": false,
    "pycharm": {
     "name": "#%%\n"
    }
   }
  },
  {
   "cell_type": "code",
   "execution_count": 252,
   "outputs": [],
   "source": [
    "test.insert(1, \"Survived\", y_pred, True)\n",
    "test.to_csv('submission.csv')"
   ],
   "metadata": {
    "collapsed": false,
    "pycharm": {
     "name": "#%%\n"
    }
   }
  },
  {
   "cell_type": "code",
   "execution_count": 251,
   "outputs": [],
   "source": [],
   "metadata": {
    "collapsed": false,
    "pycharm": {
     "name": "#%%\n"
    }
   }
  }
 ],
 "metadata": {
  "kernelspec": {
   "display_name": "Python 3",
   "language": "python",
   "name": "python3"
  },
  "language_info": {
   "codemirror_mode": {
    "name": "ipython",
    "version": 2
   },
   "file_extension": ".py",
   "mimetype": "text/x-python",
   "name": "python",
   "nbconvert_exporter": "python",
   "pygments_lexer": "ipython2",
   "version": "2.7.6"
  }
 },
 "nbformat": 4,
 "nbformat_minor": 0
}